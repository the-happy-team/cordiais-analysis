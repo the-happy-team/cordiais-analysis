{
 "cells": [
  {
   "cell_type": "code",
   "execution_count": 1,
   "metadata": {},
   "outputs": [],
   "source": [
    "import json\n",
    "from os.path import isfile, join\n",
    "import pathlib\n",
    "\n",
    "from PIL import Image\n",
    "\n",
    "IMAGES_DIR = join('.', 'imgs')\n",
    "IMAGES_DIR_RAW = join(IMAGES_DIR, '00_raw')\n",
    "IMAGES_DIR_FACES = join(IMAGES_DIR, '00_raw_faces')\n",
    "\n",
    "WEB_DIR = join('..', 'cordiais-web', 'public')\n",
    "WEB_DIR_FACES = join(WEB_DIR, 'imgs', 'faces')\n",
    "WEB_DIR_DATA = join(WEB_DIR, 'data')\n",
    "WEB_DATA_FILE = join(WEB_DIR_DATA, 'obras.json')\n",
    "\n",
    "obras_web = {}\n",
    "\n",
    "with open(WEB_DATA_FILE, 'r') as in_json:\n",
    "    obras_web = json.load(in_json)\n"
   ]
  },
  {
   "cell_type": "code",
   "execution_count": 2,
   "metadata": {},
   "outputs": [],
   "source": [
    "def crop_face(img, face_rect):\n",
    "    iwidth, iheight = img.size\n",
    "\n",
    "    face_left = face_rect['left'] * iwidth\n",
    "    face_top = face_rect['top'] * iheight\n",
    "    face_width = face_rect['width'] * iwidth\n",
    "    face_height = face_rect['height'] * iheight\n",
    "\n",
    "    face_center_x = face_left + 0.5 * face_width\n",
    "    face_center_y = face_top + 0.475 * face_height\n",
    "    face_dim = max (face_width, face_height)\n",
    "\n",
    "    crop_margin = 0.666\n",
    "    crop_left = face_center_x - crop_margin * face_dim\n",
    "    crop_right = face_center_x + crop_margin * face_dim\n",
    "    crop_top = face_center_y - crop_margin * face_dim\n",
    "    crop_bottom = face_center_y + crop_margin * face_dim\n",
    "\n",
    "    return img.crop((crop_left, crop_top, crop_right, crop_bottom))\n"
   ]
  },
  {
   "cell_type": "code",
   "execution_count": 3,
   "metadata": {},
   "outputs": [],
   "source": [
    "def resize_img(img, max_dim):\n",
    "    img.thumbnail((max_dim, max_dim), Image.ANTIALIAS)\n",
    "    return img"
   ]
  },
  {
   "cell_type": "code",
   "execution_count": 4,
   "metadata": {},
   "outputs": [],
   "source": [
    "pathlib.Path(IMAGES_DIR_FACES).mkdir(parents=True, exist_ok=True)\n",
    "pathlib.Path(WEB_DIR_FACES).mkdir(parents=True, exist_ok=True)\n",
    "\n",
    "for o_slug in obras_web:\n",
    "    o = obras_web[o_slug]\n",
    "\n",
    "    o_img_file = join(IMAGES_DIR_RAW, o['img'].replace('_web', '_raw'))\n",
    "    o_face_file = join(IMAGES_DIR_FACES, o['img'].replace('_web', '_raw'))\n",
    "    o_face_file_web = join(WEB_DIR_FACES, o['img'])\n",
    "\n",
    "    have_both_faces = isfile(o_face_file) and isfile(o_face_file_web)\n",
    "\n",
    "    if isfile(o_img_file) and 'face_rectangle' in o and not have_both_faces:\n",
    "        img = Image.open(o_img_file).convert('RGB')\n",
    "        face = crop_face(img, o['face_rectangle'])\n",
    "\n",
    "        if not isfile(o_face_file):\n",
    "            face.save(o_face_file, quality=90, optimize=True, progressive=True)\n",
    "\n",
    "        if not isfile(o_face_file_web):\n",
    "            face_web = resize_img(face.copy(), 512)\n",
    "            face_web.save(o_face_file_web, quality=90, optimize=True, progressive=True)\n"
   ]
  }
 ],
 "metadata": {
  "interpreter": {
   "hash": "f1c2f62437e6d0e01f5e1b297c172b677510728d5fc922584782013da7e41d7f"
  },
  "kernelspec": {
   "display_name": "Python 3.8.12 64-bit ('cordiais': conda)",
   "language": "python",
   "name": "python3"
  },
  "language_info": {
   "codemirror_mode": {
    "name": "ipython",
    "version": 3
   },
   "file_extension": ".py",
   "mimetype": "text/x-python",
   "name": "python",
   "nbconvert_exporter": "python",
   "pygments_lexer": "ipython3",
   "version": "3.8.12"
  },
  "orig_nbformat": 4
 },
 "nbformat": 4,
 "nbformat_minor": 2
}
