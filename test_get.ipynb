{
 "cells": [
  {
   "cell_type": "code",
   "execution_count": null,
   "metadata": {},
   "outputs": [],
   "source": [
    "import json\n",
    "import requests\n",
    "\n",
    "urls = [\n",
    "    \"https://upload.wikimedia.org/wikipedia/commons/4/4e/Rodolfo_Amoedo_-_Más_notícias.jpg\",\n",
    "    \"https://acervo.pinacoteca.org.br/online/multimediaNET/PINA/2018/09/web/31547.jpg\",\n",
    "    \"https://artsandculture.google.com/asset/cigana-arthur-timótheo-da-costa/7gHBV3OgBD54Dw\"\n",
    "]\n",
    "\n",
    "headers = {\n",
    "    'user-agent': 'PostmanRuntime/7.29.0'\n",
    "}"
   ]
  },
  {
   "cell_type": "code",
   "execution_count": null,
   "metadata": {},
   "outputs": [],
   "source": [
    "for u in urls:\n",
    "    get_response = requests.get(u, headers=headers)\n",
    "    print(get_response.status_code)"
   ]
  }
 ],
 "metadata": {
  "kernelspec": {
   "display_name": "Python 3.8.12 ('cordiais')",
   "language": "python",
   "name": "python3"
  },
  "language_info": {
   "codemirror_mode": {
    "name": "ipython",
    "version": 3
   },
   "file_extension": ".py",
   "mimetype": "text/x-python",
   "name": "python",
   "nbconvert_exporter": "python",
   "pygments_lexer": "ipython3",
   "version": "3.8.12"
  },
  "orig_nbformat": 4,
  "vscode": {
   "interpreter": {
    "hash": "f1c2f62437e6d0e01f5e1b297c172b677510728d5fc922584782013da7e41d7f"
   }
  }
 },
 "nbformat": 4,
 "nbformat_minor": 2
}
