{
 "cells": [
  {
   "cell_type": "code",
   "execution_count": null,
   "metadata": {},
   "outputs": [],
   "source": [
    "from cordiais_analysis import analyze_images, get_images, get_obras, update_web_json\n",
    "\n",
    "obras = get_obras()\n",
    "get_images(obras)\n",
    "update_web_json(obras)"
   ]
  }
 ],
 "metadata": {
  "interpreter": {
   "hash": "f1c2f62437e6d0e01f5e1b297c172b677510728d5fc922584782013da7e41d7f"
  },
  "kernelspec": {
   "display_name": "Python 3.8.12 64-bit ('cordiais': conda)",
   "language": "python",
   "name": "python3"
  },
  "language_info": {
   "codemirror_mode": {
    "name": "ipython",
    "version": 3
   },
   "file_extension": ".py",
   "mimetype": "text/x-python",
   "name": "python",
   "nbconvert_exporter": "python",
   "pygments_lexer": "ipython3",
   "version": "3.8.12"
  },
  "orig_nbformat": 4
 },
 "nbformat": 4,
 "nbformat_minor": 2
}
