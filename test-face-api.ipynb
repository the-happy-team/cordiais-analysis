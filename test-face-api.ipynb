{
 "cells": [
  {
   "cell_type": "code",
   "execution_count": null,
   "metadata": {},
   "outputs": [],
   "source": [
    "import csv\n",
    "from io import StringIO\n",
    "import json\n",
    "from os import environ\n",
    "from os.path import isfile, join\n",
    "import pathlib\n",
    "from subprocess import Popen\n",
    "\n",
    "from PIL import Image\n",
    "import requests\n",
    "\n",
    "from utils.text import to_slug\n",
    "from utils.image import resize_img, crop_face, calculate_dominant_color\n",
    "\n",
    "IMAGES_DIR = join('.', 'imgs')\n",
    "IMAGES_DIR_RAW = join(IMAGES_DIR, '00_raw')\n",
    "IMAGES_DIR_HD = join(IMAGES_DIR, '01_hd')\n",
    "IMAGES_DIR_THUMB = join(IMAGES_DIR, '02_thumb')\n",
    "IMAGES_DIR_FACES = join(IMAGES_DIR, '00_raw_faces')\n",
    "\n",
    "WEB_DIR = join('..', 'cordiais-web', 'public')\n",
    "WEB_DIR_IMAGES = join(WEB_DIR, 'imgs', 'obras')\n",
    "WEB_DIR_FACES = join(WEB_DIR, 'imgs', 'faces')\n",
    "WEB_DIR_DATA = join(WEB_DIR, 'data')\n",
    "WEB_DATA_FILE = join(WEB_DIR_DATA, 'obras.json')\n",
    "\n",
    "FACE_API_URL = 'https://api-us.faceplusplus.com/facepp/v3/detect'\n",
    "FACE_API_DATA = {\n",
    "    'api_key': environ.get('FACEPP_KEY'),\n",
    "    'api_secret': environ.get('FACEPP_SECRET'),\n",
    "    'return_attributes': 'emotion,gender,age,facequality,beauty'\n",
    "}"
   ]
  },
  {
   "cell_type": "code",
   "execution_count": null,
   "metadata": {},
   "outputs": [],
   "source": [
    "with open(WEB_DATA_FILE, 'r') as in_json:\n",
    "    obras_json = json.load(in_json)"
   ]
  },
  {
   "cell_type": "code",
   "execution_count": null,
   "metadata": {},
   "outputs": [],
   "source": [
    "counts = []\n",
    "for i in range(10):\n",
    "    counts.append([])\n",
    "\n",
    "for slug, v in obras_json.items():\n",
    "    fcnt = v['faces']\n",
    "    counts[v['faces']].append(slug)\n",
    "\n",
    "list(map(len, counts))"
   ]
  },
  {
   "cell_type": "code",
   "execution_count": null,
   "metadata": {},
   "outputs": [],
   "source": [
    "slugs_multi = [s for l in counts[2:] for s in l]\n",
    "len(slugs_multi)"
   ]
  },
  {
   "cell_type": "code",
   "execution_count": null,
   "metadata": {},
   "outputs": [],
   "source": [
    "def process_file(img_file):\n",
    "    files = {\n",
    "        'image_file': open(img_file, 'rb')\n",
    "    }\n",
    "\n",
    "    res = requests.post(FACE_API_URL, files=files, data=FACE_API_DATA)\n",
    "    res_content = json.loads(res.text)\n",
    "    res_content[\"ok\"] = res.ok\n",
    "\n",
    "    return res_content"
   ]
  },
  {
   "cell_type": "code",
   "execution_count": null,
   "metadata": {},
   "outputs": [],
   "source": [
    "def display_faces(obra_slug, type=\"HD\"):\n",
    "    if type == 'WEB':\n",
    "        img_file = join(WEB_DIR_IMAGES, '%s_%s.jpg' % (obra_slug, 'web'))\n",
    "    elif type == 'THUMB':\n",
    "        img_file = join(IMAGES_DIR_THUMB, '%s_%s.jpg' % (obra_slug, 'thumb'))\n",
    "    else:\n",
    "        img_file = join(IMAGES_DIR_HD, '%s_%s.jpg' % (obra_slug, 'hd'))\n",
    "\n",
    "    res = process_file(img_file)\n",
    "    img = Image.open(img_file).convert('RGB')\n",
    "\n",
    "    if res[\"ok\"]:\n",
    "        if res['face_num'] > 0:\n",
    "            by_female = sorted(\n",
    "                [f for f in res['faces'][:5] if f['attributes']['gender']['value'] == 'Female'],\n",
    "                key=lambda x: x['face_rectangle']['width'],\n",
    "                reverse=True)\n",
    "            by_size = sorted(\n",
    "                [f for f in res['faces'][:5]],\n",
    "                key=lambda x: x['face_rectangle']['width'],\n",
    "                reverse=True)\n",
    "            top_rect = by_female[0]['face_rectangle'] if len(by_female) > 0 else by_size[0]['face_rectangle']\n",
    "            gen_id = \"F\" if len(by_female) > 0 else \"?\"\n",
    "            top_image = img.crop((\n",
    "                top_rect['left'],\n",
    "                top_rect['top'],\n",
    "                top_rect['left']+top_rect['width'],\n",
    "                top_rect['top']+top_rect['height']))\n",
    "            print(\"%s: \" % gen_id, obra_slug)\n",
    "            display(top_image)\n",
    "    else:\n",
    "        print('get_face_attributes ERROR: %s' % json.dumps(res, sort_keys=True, indent=2))"
   ]
  },
  {
   "cell_type": "code",
   "execution_count": null,
   "metadata": {},
   "outputs": [],
   "source": [
    "for obra_slug in slugs_multi:\n",
    "    display_faces(obra_slug)"
   ]
  },
  {
   "cell_type": "code",
   "execution_count": null,
   "metadata": {},
   "outputs": [],
   "source": [
    "linda_slug = 'aladino-divani_retrato-de-linda-divani'\n",
    "linda_file = join(IMAGES_DIR_HD, '%s_%s.jpg' % (linda_slug, 'hd'))\n",
    "process_file(linda_file)"
   ]
  }
 ],
 "metadata": {
  "kernelspec": {
   "display_name": "Python 3.8.12 ('cordiais')",
   "language": "python",
   "name": "python3"
  },
  "language_info": {
   "codemirror_mode": {
    "name": "ipython",
    "version": 3
   },
   "file_extension": ".py",
   "mimetype": "text/x-python",
   "name": "python",
   "nbconvert_exporter": "python",
   "pygments_lexer": "ipython3",
   "version": "3.8.12"
  },
  "orig_nbformat": 4,
  "vscode": {
   "interpreter": {
    "hash": "f1c2f62437e6d0e01f5e1b297c172b677510728d5fc922584782013da7e41d7f"
   }
  }
 },
 "nbformat": 4,
 "nbformat_minor": 2
}
