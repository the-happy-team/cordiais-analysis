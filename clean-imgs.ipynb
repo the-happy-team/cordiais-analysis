{
 "cells": [
  {
   "cell_type": "code",
   "execution_count": null,
   "metadata": {},
   "outputs": [],
   "source": [
    "import json\n",
    "from os import environ, listdir\n",
    "from os.path import isdir, isfile, join\n",
    "import re\n",
    "\n",
    "IMAGES_DIR = join('.', 'imgs')\n",
    "WEB_DIR = join('..', 'cordiais-web', 'public')\n",
    "\n",
    "IMAGES_DIR_RAW = join(IMAGES_DIR, '00_raw')\n",
    "IMAGES_DIR_HD = join(IMAGES_DIR, '01_hd')\n",
    "IMAGES_DIR_THUMB = join(IMAGES_DIR, '02_thumb')\n",
    "IMAGES_DIR_FACES = join(IMAGES_DIR, '00_raw_faces')\n",
    "\n",
    "WEB_DIR_IMAGES = join(WEB_DIR, 'imgs', 'obras')\n",
    "WEB_DIR_FACES = join(WEB_DIR, 'imgs', 'faces')\n",
    "WEB_DIR_DATA = join(WEB_DIR, 'data')\n",
    "WEB_DATA_FILE = join(WEB_DIR_DATA, 'obras.json')"
   ]
  },
  {
   "cell_type": "code",
   "execution_count": null,
   "metadata": {},
   "outputs": [],
   "source": [
    "def get_slug_set(fp):\n",
    "    if isdir(fp):\n",
    "        return set(\n",
    "            [re.sub(r'(_thumb|_web|_raw|_hd).jpg', '', f) for f in listdir(fp) if f.endswith('.jpg')]\n",
    "        )\n",
    "    elif isfile(fp) and fp.endswith('json'):\n",
    "        with open(fp, 'r') as in_json:\n",
    "            obras_json = json.load(in_json)\n",
    "        return set(obras_json)\n"
   ]
  },
  {
   "cell_type": "code",
   "execution_count": null,
   "metadata": {},
   "outputs": [],
   "source": [
    "def set_diff(a, b):\n",
    "    return a - b, b - a"
   ]
  },
  {
   "cell_type": "code",
   "execution_count": null,
   "metadata": {},
   "outputs": [],
   "source": [
    "set_diff(get_slug_set(IMAGES_DIR_RAW), get_slug_set(IMAGES_DIR_HD)),"
   ]
  },
  {
   "cell_type": "code",
   "execution_count": null,
   "metadata": {},
   "outputs": [],
   "source": [
    "obras_json_set = get_slug_set(WEB_DATA_FILE)\n",
    "(\n",
    "    set_diff(obras_json_set, get_slug_set(WEB_DIR_IMAGES)),\n",
    "    set_diff(obras_json_set, get_slug_set(WEB_DIR_FACES)),\n",
    "    set_diff(obras_json_set, get_slug_set(IMAGES_DIR_RAW)),\n",
    "    set_diff(obras_json_set, get_slug_set(IMAGES_DIR_HD)),\n",
    "    set_diff(obras_json_set, get_slug_set(IMAGES_DIR_THUMB)),\n",
    "    set_diff(obras_json_set, get_slug_set(IMAGES_DIR_FACES))\n",
    ")"
   ]
  }
 ],
 "metadata": {
  "kernelspec": {
   "display_name": "Python 3.8.12 ('cordiais')",
   "language": "python",
   "name": "python3"
  },
  "language_info": {
   "codemirror_mode": {
    "name": "ipython",
    "version": 3
   },
   "file_extension": ".py",
   "mimetype": "text/x-python",
   "name": "python",
   "nbconvert_exporter": "python",
   "pygments_lexer": "ipython3",
   "version": "3.8.12"
  },
  "orig_nbformat": 4,
  "vscode": {
   "interpreter": {
    "hash": "f1c2f62437e6d0e01f5e1b297c172b677510728d5fc922584782013da7e41d7f"
   }
  }
 },
 "nbformat": 4,
 "nbformat_minor": 2
}
